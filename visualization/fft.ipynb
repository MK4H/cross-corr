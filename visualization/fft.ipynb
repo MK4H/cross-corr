{
 "cells": [
  {
   "cell_type": "code",
   "execution_count": null,
   "metadata": {
    "pycharm": {
     "name": "#%%\n"
    }
   },
   "outputs": [],
   "source": [
    "import re\n",
    "\n",
    "import math\n",
    "import numpy as np\n",
    "import pandas as pd\n",
    "import matplotlib.pyplot as plt\n",
    "import itertools\n",
    "import seaborn as sns\n",
    "from shared import Benchmark, Run, Group\n",
    "\n",
    "from pathlib import Path\n",
    "from typing import List, Tuple, Dict, Any\n",
    "\n",
    "sns.set(rc={'figure.figsize':(10,40)})\n",
    "\n",
    "all_stages = [\"Load\", \"Prepare\", \"Transfer\", \"Run\", \"Finalize\"]\n",
    "compute_stages = [\"Prepare\", \"Transfer\", \"Run\", \"Finalize\"]\n",
    "\n",
    "def plot_stages(ax: plt.axes, data: pd.DataFrame, stages: List[str], palette: Dict[str, Any]):\n",
    "    run_times = data.groupby([\"Group\", \"Input total items\"])[stages].apply(lambda x: x.mean().sum() / 1e9).reset_index(name=\"Stage time\").sort_values(\"Stage time\")\n",
    "\n",
    "    ax = sns.lineplot(data=run_times, x=\"Input total items\", y=\"Stage time\", hue=\"Group\", ax=ax, palette=palette, marker=\"o\")\n",
    "    ax.set_title(str(stages))\n",
    "\n",
    "\n",
    "benchmark = Benchmark.load(Path.cwd().parent / \"benchmarking\" / \"test\" / \"fft\")\n",
    "\n",
    "stage_groups = [[\"Prepare\"], [\"Transfer\"], [\"Run\"], [\"Finalize\"], [\"Allocation\"], [\"Plan\"]]\n",
    "\n",
    "fig, axs = plt.subplots(nrows=len(stage_groups))\n",
    "fig.suptitle(f\"One to one\")\n",
    "\n",
    "one_to_one_groups = [\"single_one_to_one\", \"double_one_to_one\"]\n",
    "\n",
    "data = pd.concat([run.data for run in itertools.chain.from_iterable([benchmark.groups[group_name].runs for group_name in one_to_one_groups])], join=\"inner\")\n",
    "\n",
    "names = sorted(data[\"Group\"].unique())\n",
    "palette = dict(zip(names, sns.color_palette(n_colors=len(names))))\n",
    "\n",
    "for idx, stage_group in enumerate(stage_groups):\n",
    "    plot_stages(axs[idx], data, stage_group, palette)\n",
    "\n",
    "\n",
    "\n"
   ]
  },
  {
   "cell_type": "code",
   "execution_count": null,
   "metadata": {
    "pycharm": {
     "name": "#%%\n"
    }
   },
   "outputs": [],
   "source": [
    "import re\n",
    "\n",
    "import math\n",
    "import numpy as np\n",
    "import pandas as pd\n",
    "import matplotlib.pyplot as plt\n",
    "import itertools\n",
    "import seaborn as sns\n",
    "from shared import Benchmark, Run, Group\n",
    "\n",
    "from pathlib import Path\n",
    "from typing import List, Tuple, Dict, Any\n",
    "\n",
    "sns.set(rc={'figure.figsize':(10,40)})\n",
    "\n",
    "def plot_stages(ax: plt.axes, data: pd.DataFrame, stages: List[str], palette: Dict[str, Any]):\n",
    "    run_times = data.groupby([\"Group\", \"Input type\" ,\"Input matrix area\"])[stages].apply(lambda x: x.mean().sum() / 1e9).reset_index(name=\"Stage time\").sort_values(\"Stage time\")\n",
    "\n",
    "    ax = sns.lineplot(data=run_times, x=\"Input matrix area\", y=\"Stage time\", hue=\"Group\", style=\"Input type\", ax=ax, palette=palette, marker=\"o\")\n",
    "    ax.set_title(str(stages))\n",
    "\n",
    "benchmark = Benchmark.load(Path.cwd().parent / \"benchmarking\" / \"test\" / \"fft\")\n",
    "stage_groups = [[\"Prepare\"], [\"Transfer\"], [\"Run\"], [\"Finalize\"], [\"Allocation\"], [\"Plan\"]]\n",
    "\n",
    "fig, axs = plt.subplots(nrows=len(stage_groups))\n",
    "fig.suptitle(f\"N to M\")\n",
    "\n",
    "n_to_m_groups = [\"single_n_to_m\", \"double_n_to_m\"]\n",
    "data = pd.concat([run.data for run in itertools.chain.from_iterable([benchmark.groups[group_name].runs for group_name in n_to_m_groups])], join=\"inner\")\n",
    "\n",
    "names = sorted(data[\"Group\"].unique())\n",
    "palette = dict(zip(names, sns.color_palette(n_colors=len(names))))\n",
    "\n",
    "for idx, stage_group in enumerate(stage_groups):\n",
    "    plot_stages(axs[idx], data, stage_group, palette)"
   ]
  },
  {
   "cell_type": "code",
   "execution_count": null,
   "metadata": {
    "pycharm": {
     "name": "#%%\n"
    }
   },
   "outputs": [],
   "source": []
  },
  {
   "cell_type": "code",
   "execution_count": null,
   "metadata": {
    "pycharm": {
     "name": "#%%\n"
    }
   },
   "outputs": [],
   "source": []
  }
 ],
 "metadata": {
  "kernelspec": {
   "display_name": "Python 3",
   "language": "python",
   "name": "python3"
  },
  "language_info": {
   "codemirror_mode": {
    "name": "ipython",
    "version": 2
   },
   "file_extension": ".py",
   "mimetype": "text/x-python",
   "name": "python",
   "nbconvert_exporter": "python",
   "pygments_lexer": "ipython2",
   "version": "2.7.6"
  }
 },
 "nbformat": 4,
 "nbformat_minor": 0
}
