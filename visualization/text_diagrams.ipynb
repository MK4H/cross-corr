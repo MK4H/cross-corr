{
 "cells": [
  {
   "cell_type": "markdown",
   "source": [
    "Used in the implementation chapter to illustrate warp per shift optimizations"
   ],
   "metadata": {
    "collapsed": false,
    "pycharm": {
     "name": "#%% md\n"
    }
   }
  },
  {
   "cell_type": "code",
   "execution_count": null,
   "metadata": {
    "collapsed": true,
    "pycharm": {
     "name": "#%%\n"
    }
   },
   "outputs": [],
   "source": [
    "import re\n",
    "\n",
    "import math\n",
    "import numpy as np\n",
    "import pandas as pd\n",
    "import matplotlib.pyplot as plt\n",
    "import seaborn as sns\n",
    "from shared import Benchmark, Run, Group, InputSize\n",
    "\n",
    "from pathlib import Path\n",
    "from typing import List, Tuple, Dict\n",
    "\n",
    "presentable_names = {\n",
    "    \"per_warp_orig\": \"Simplified\",\n",
    "    \"per_warp_shared_mem\": \"Shared memory\",\n",
    "    \"per_warp_work_dist\": \"Work distribution\"\n",
    "}\n",
    "\n",
    "benchmark = Benchmark.load(Path.cwd().parent / \"benchmarking\" / \"text\" / \"BlockPerShift\")\n",
    "\n",
    "data = pd.concat([run.data for run in benchmark.groups[\"one_to_one\"].runs], axis=0, ignore_index=True)\n",
    "\n",
    "data = data[(data[\"Name\"] != \"per_block\") & (data[\"Name\"] != \"orig\")]\n",
    "data = data[data[\"Input matrix rows\"] <= 32]\n",
    "\n",
    "grouped = data.groupby([\"Name\", \"Args\", \"Input matrix rows\"])\n",
    "compute_times = grouped[\"Computation\"].mean() / 1e9\n",
    "compute_times.name = \"Compute time\"\n",
    "results = compute_times.reset_index().sort_values(\"Compute time\")\n",
    "\n",
    "alg_mins = results.groupby([\"Name\", \"Input matrix rows\"])[\"Compute time\"].min().to_frame(\"Compute time\")\n",
    "\n",
    "alg_mins = alg_mins.reset_index()\n",
    "alg_mins[\"Implementations\"] = alg_mins[\"Name\"].map(presentable_names)\n",
    "\n",
    "sns.set(rc={'figure.figsize': (5, 5)})\n",
    "fig, ax = plt.subplots()\n",
    "\n",
    "ax = sns.lineplot(data=alg_mins, x=\"Input matrix rows\", y=\"Compute time\", hue=\"Implementations\", marker='o', ax=ax)\n",
    "ticks = ax.get_xticks()\n",
    "ticks = [f\"{int(num_rows)}x{int(num_rows)}\" for num_rows in ticks]\n",
    "ax.set_xticklabels(ticks)\n",
    "ax.set_xlabel(\"Input matrix size\")\n",
    "ax.set_ylabel(\"Computation time (s)\")\n",
    "fig.tight_layout()\n",
    "fig.savefig(\"warp_per_shift_work_dist_local_results.svg\", format=\"svg\")"
   ]
  },
  {
   "cell_type": "markdown",
   "source": [
    "Used in implementation chapter to illustrate block per shift"
   ],
   "metadata": {
    "collapsed": false,
    "pycharm": {
     "name": "#%% md\n"
    }
   }
  },
  {
   "cell_type": "code",
   "execution_count": null,
   "outputs": [],
   "source": [
    "\n",
    "\n",
    "import re\n",
    "\n",
    "import math\n",
    "import numpy as np\n",
    "import pandas as pd\n",
    "import matplotlib.pyplot as plt\n",
    "import seaborn as sns\n",
    "from shared import Benchmark, Run, Group, InputSize\n",
    "\n",
    "from pathlib import Path\n",
    "from typing import List, Tuple, Dict\n",
    "\n",
    "presentable_names = {\n",
    "    \"orig\": \"Bali original\",\n",
    "    \"per_block\": \"Block per Shift\",\n",
    "    \"per_warp_orig\": \"Warp per Shift simplified\",\n",
    "    \"per_warp_shared_mem\": \"Warp per Shift shared memory\",\n",
    "    \"per_warp_work_dist\": \"Warp per Shift work distribution\"\n",
    "}\n",
    "\n",
    "benchmark = Benchmark.load(Path.cwd().parent / \"benchmarking\" / \"text\" / \"BlockPerShift\")\n",
    "\n",
    "data = pd.concat([run.data for run in benchmark.groups[\"one_to_one\"].runs], axis=0, ignore_index=True)\n",
    "data = data[(data[\"Name\"] != \"per_warp_shared_mem\") & (data[\"Name\"] != \"per_warp_work_dist\") & (data[\"Name\"] != \"orig\")]\n",
    "data = data[data[\"Input matrix rows\"] <= 32]\n",
    "\n",
    "grouped = data.groupby([\"Name\", \"Args\", \"Input matrix rows\"])\n",
    "compute_times = grouped[\"Computation\"].mean() / 1e9\n",
    "compute_times.name = \"Compute time\"\n",
    "results = compute_times.reset_index().sort_values(\"Compute time\")\n",
    "\n",
    "alg_mins = results.groupby([\"Name\", \"Input matrix rows\"])[\"Compute time\"].min().to_frame(\"Compute time\")\n",
    "\n",
    "alg_mins = alg_mins.reset_index()\n",
    "alg_mins[\"Implementations\"] = alg_mins[\"Name\"].map(presentable_names)\n",
    "\n",
    "sns.set(rc={'figure.figsize': (5, 5)})\n",
    "fig, ax = plt.subplots()\n",
    "\n",
    "ax = sns.lineplot(data=alg_mins, x=\"Input matrix rows\", y=\"Compute time\", hue=\"Implementations\", marker='o', ax=ax)\n",
    "ticks = ax.get_xticks()\n",
    "ticks = [f\"{int(num_rows)}x{int(num_rows)}\" for num_rows in ticks]\n",
    "ax.set_xticklabels(ticks)\n",
    "ax.set_xlabel(\"Input matrix size\")\n",
    "ax.set_ylabel(\"Computation time (s)\")\n",
    "fig.tight_layout()\n",
    "fig.savefig(\"block_per_shift_local_results.svg\", format=\"svg\")"
   ],
   "metadata": {
    "collapsed": false,
    "pycharm": {
     "name": "#%%\n"
    }
   }
  },
  {
   "cell_type": "markdown",
   "source": [
    "Used in results chapter\n",
    "\n",
    "Results of Warp shuffle optimizations diagram for one to one type used in text"
   ],
   "metadata": {
    "collapsed": false,
    "pycharm": {
     "name": "#%% md\n"
    }
   }
  },
  {
   "cell_type": "code",
   "execution_count": null,
   "outputs": [],
   "source": [
    "import re\n",
    "\n",
    "import math\n",
    "import numpy as np\n",
    "import pandas as pd\n",
    "import matplotlib.pyplot as plt\n",
    "import seaborn as sns\n",
    "from shared import Benchmark, Run, Group, InputSize\n",
    "\n",
    "from pathlib import Path\n",
    "from typing import List, Tuple, Dict\n",
    "\n",
    "benchmark = Benchmark.load(Path.cwd().parent / \"benchmarking\" / \"args_test\" / \"gpulab_args_test2\")\n",
    "group = benchmark.groups[\"one_to_one\"]\n",
    "\n",
    "warp_shuffle_algs_and_args = {\n",
    "    \"nai_shuffle_multimat_right\": {\n",
    "        \"name\": \"Simple\",\n",
    "        \"args\": \"8\",\n",
    "    },\n",
    "    \"nai_shuffle_multimat_right_work_distribution\": {\n",
    "        \"name\": \"Simple with work distribution\",\n",
    "        \"args\": \"8_1_triangle\",\n",
    "    },\n",
    "    \"nai_shuffle_multirow_right\": {\n",
    "        \"name\": \"Multirow right\",\n",
    "        \"args\": \"8_4\",\n",
    "    },\n",
    "    \"nai_shuffle_multirow_both\": {\n",
    "        \"name\": \"Multirow both\",\n",
    "        \"args\": \"8_4_4\",\n",
    "    },\n",
    "}\n",
    "\n",
    "data = pd.concat([run.data for run in group.runs], axis=0, ignore_index=True)\n",
    "\n",
    "def filter_data(row) -> bool:\n",
    "    return row[\"Name\"] in warp_shuffle_algs_and_args and warp_shuffle_algs_and_args[row[\"Name\"]][\"args\"] == row[\"Args\"]\n",
    "\n",
    "data = data[data[[\"Name\", \"Args\"]].apply(filter_data, axis=1)]\n",
    "\n",
    "grouped = data.groupby([\"Name\", \"Args\", \"Input matrix rows\"])\n",
    "\n",
    "\n",
    "\n",
    "kernel_times = grouped[\"Kernel\"].mean() / 1e9\n",
    "kernel_times.name = \"Kernel time\"\n",
    "results = kernel_times.reset_index()\n",
    "\n",
    "simple_impl_times = results[results[\"Name\"] == \"nai_shuffle_multimat_right\"]\n",
    "\n",
    "def speedup(row):\n",
    "    min_time = simple_impl_times[simple_impl_times[\"Input matrix rows\"] == row[\"Input matrix rows\"]][\"Kernel time\"].item()\n",
    "    return row[\"Kernel time\"] / min_time\n",
    "\n",
    "def map_name(row):\n",
    "    return warp_shuffle_algs_and_args[row[\"Name\"]][\"name\"]\n",
    "\n",
    "results[\"Relative speed\"] = results.apply(speedup, axis=1)\n",
    "results[\"Implementation\"] = results.apply(map_name, axis=1)\n",
    "\n",
    "\n",
    "sns.set(rc={'figure.figsize': (5, 5)})\n",
    "fig, ax = plt.subplots()\n",
    "\n",
    "ax = sns.lineplot(data=results, x=\"Input matrix rows\", y=\"Relative speed\", hue=\"Implementation\", marker='o', ax=ax)\n",
    "ticks = ax.get_xticks()\n",
    "ticks = [f\"{int(num_rows)}x{int(num_rows)}\" for num_rows in ticks]\n",
    "ax.set_xticklabels(ticks)\n",
    "ax.set_xlabel(\"Input matrix size\")\n",
    "ax.set_ylabel(\"Speedup\")\n",
    "fig.tight_layout()\n",
    "fig.savefig(\"warp_shuffle_one_to_one_results.svg\", format=\"svg\")"
   ],
   "metadata": {
    "collapsed": false,
    "pycharm": {
     "name": "#%%\n"
    }
   }
  },
  {
   "cell_type": "markdown",
   "source": [
    "Warp per shift diagram used in text"
   ],
   "metadata": {
    "collapsed": false,
    "pycharm": {
     "name": "#%% md\n"
    }
   }
  },
  {
   "cell_type": "code",
   "execution_count": null,
   "outputs": [],
   "source": [
    "import re\n",
    "\n",
    "import math\n",
    "import numpy as np\n",
    "import pandas as pd\n",
    "import matplotlib.pyplot as plt\n",
    "import seaborn as sns\n",
    "from shared import Benchmark, Run, Group, InputSize\n",
    "\n",
    "from pathlib import Path\n",
    "from typing import List, Tuple, Dict\n",
    "\n",
    "benchmark = Benchmark.load(Path.cwd().parent / \"benchmarking\" / \"args_test\" / \"gpulab_args_test2\")\n",
    "\n",
    "group = benchmark.groups[\"one_to_one\"]\n",
    "\n",
    "warp_per_shift_algs_and_args = {\n",
    "    \"nai_warp_per_shift\": {\n",
    "        \"name\": \"Warp per shift\",\n",
    "        \"args\": \"16\",\n",
    "    },\n",
    "    \"nai_warp_per_shift_work_distribution\": {\n",
    "        \"name\": \"Warp per shift with work distribution\",\n",
    "        \"args\": \"8_10_triangle\",\n",
    "    },\n",
    "    \"nai_warp_per_shift_shared_mem\": {\n",
    "        \"name\": \"Warp per shift with shared memory\",\n",
    "        \"args\": \"16_128_True_True\",\n",
    "    },\n",
    "    \"nai_block_per_shift\": {\n",
    "        \"name\": \"Block per shift\",\n",
    "        \"args\": \"256\",\n",
    "    },\n",
    "}\n",
    "\n",
    "data = pd.concat([run.data for run in group.runs], axis=0, ignore_index=True)\n",
    "\n",
    "def filter_data(row) -> bool:\n",
    "    return row[\"Name\"] in warp_per_shift_algs_and_args and warp_per_shift_algs_and_args[row[\"Name\"]][\"args\"] == row[\"Args\"]\n",
    "\n",
    "data = data[data[[\"Name\", \"Args\"]].apply(filter_data, axis=1)]\n",
    "\n",
    "grouped = data.groupby([\"Name\", \"Args\", \"Input matrix rows\"])\n",
    "\n",
    "\n",
    "\n",
    "kernel_times = grouped[\"Kernel\"].mean() / 1e9\n",
    "kernel_times.name = \"Kernel time\"\n",
    "results = kernel_times.reset_index()\n",
    "\n",
    "warp_per_shift_impl_times = results[results[\"Name\"] == \"nai_warp_per_shift\"]\n",
    "\n",
    "def speedup(row):\n",
    "    min_time = warp_per_shift_impl_times[warp_per_shift_impl_times[\"Input matrix rows\"] == row[\"Input matrix rows\"]][\"Kernel time\"].item()\n",
    "    return row[\"Kernel time\"] / min_time\n",
    "\n",
    "def map_name(row):\n",
    "    return warp_per_shift_algs_and_args[row[\"Name\"]][\"name\"]\n",
    "\n",
    "results[\"Relative speed\"] = results.apply(speedup, axis=1)\n",
    "results[\"Implementation\"] = results.apply(map_name, axis=1)\n",
    "\n",
    "\n",
    "sns.set(rc={'figure.figsize': (5, 5)})\n",
    "fig, ax = plt.subplots()\n",
    "\n",
    "ax = sns.lineplot(data=results, x=\"Input matrix rows\", y=\"Relative speed\", hue=\"Implementation\", marker='o', ax=ax)\n",
    "ticks = ax.get_xticks()\n",
    "ticks = [f\"{int(num_rows)}x{int(num_rows)}\" for num_rows in ticks]\n",
    "ax.set_xticklabels(ticks)\n",
    "ax.set_xlabel(\"Input matrix size\")\n",
    "ax.set_ylabel(\"Speedup\")\n",
    "fig.tight_layout()\n",
    "fig.savefig(\"warp_per_shift_one_to_one_results.svg\", format=\"svg\")"
   ],
   "metadata": {
    "collapsed": false,
    "pycharm": {
     "name": "#%%\n"
    }
   }
  },
  {
   "cell_type": "markdown",
   "source": [],
   "metadata": {
    "collapsed": false,
    "pycharm": {
     "name": "#%% md\n"
    }
   }
  }
 ],
 "metadata": {
  "kernelspec": {
   "display_name": "Python 3",
   "language": "python",
   "name": "python3"
  },
  "language_info": {
   "codemirror_mode": {
    "name": "ipython",
    "version": 2
   },
   "file_extension": ".py",
   "mimetype": "text/x-python",
   "name": "python",
   "nbconvert_exporter": "python",
   "pygments_lexer": "ipython2",
   "version": "2.7.6"
  }
 },
 "nbformat": 4,
 "nbformat_minor": 0
}