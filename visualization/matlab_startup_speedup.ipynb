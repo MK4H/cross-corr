{
 "cells": [
  {
   "cell_type": "markdown",
   "metadata": {
    "collapsed": false,
    "pycharm": {
     "name": "#%% md\n"
    }
   },
   "source": [
    "# ONE TO MANY"
   ]
  },
  {
   "cell_type": "code",
   "execution_count": null,
   "metadata": {
    "pycharm": {
     "name": "#%%\n"
    }
   },
   "outputs": [],
   "source": [
    "import re\n",
    "\n",
    "import math\n",
    "import numpy as np\n",
    "import pandas as pd\n",
    "import matplotlib.pyplot as plt\n",
    "import seaborn as sns\n",
    "from shared import Benchmark, Run, Group, InputSize\n",
    "\n",
    "from pathlib import Path\n",
    "from typing import List, Tuple, Dict\n",
    "\n",
    "benchmark = Benchmark.load(Path.cwd().parent / \"benchmarking\" / \"text\" / \"matlab_startup_speedup\")\n",
    "\n",
    "group = benchmark.groups[\"one_to_many\"]\n",
    "\n",
    "comparison_base_name = \"matlab\"\n",
    "comparison_base_args = \"\"\n",
    "warp_shuffle_algs_and_args = {\n",
    "    \"matlab\": {\n",
    "        \"\": \"Matlab\",\n",
    "    },\n",
    "    \"basic\": {\n",
    "        \"\": \"Basic\",\n",
    "    },\n",
    "    \"fft_orig\": {\n",
    "        \"\": \"fft\"\n",
    "    },\n",
    "    \"nai_shuffle_multimat_right_work_distribution\": {\n",
    "        \"\": \"Multimat right with work distribution\",\n",
    "    },\n",
    "    \"nai_shuffle_multirow_both_multimat_right\": {\n",
    "        \"\": \"Multirow both multimat right\"\n",
    "    },\n",
    "}\n",
    "\n",
    "data = pd.concat([run.data for run in group.runs], axis=0, ignore_index=True)\n",
    "\n",
    "\n",
    "def filter_data(row) -> bool:\n",
    "    return row[\"Name\"] in warp_shuffle_algs_and_args and row[\"Args\"] in warp_shuffle_algs_and_args[row[\"Name\"]]\n",
    "\n",
    "\n",
    "data = data[data[[\"Name\", \"Args\"]].apply(filter_data, axis=1)]\n",
    "\n",
    "grouped = data.groupby([\"Name\", \"Args\", \"Input right matrices\", \"Input matrix rows\"])\n",
    "\n",
    "computation_times = grouped[\"Computation\"].mean() / 1e9\n",
    "computation_times.name = \"Computation time\"\n",
    "results = computation_times.reset_index()\n",
    "\n",
    "comparison_base_times = results[(results[\"Name\"] == comparison_base_name) & (results[\"Args\"] == comparison_base_args)]\n",
    "\n",
    "# TODO: Remove\n",
    "# cols = [\"Input right matrices\", \"Input matrix rows\"]\n",
    "# results = results[results[cols].apply(tuple, axis=1).isin(comparison_base_times[cols].apply(tuple, axis=1))]\n",
    "\n",
    "# print(results)\n",
    "\n",
    "def speedup(row):\n",
    "    min_time = comparison_base_times[(comparison_base_times[\"Input right matrices\"] == row[\"Input right matrices\"]) & (\n",
    "                comparison_base_times[\"Input matrix rows\"] == row[\"Input matrix rows\"])][\"Computation time\"].item()\n",
    "    return min_time / row[\"Computation time\"]\n",
    "\n",
    "\n",
    "def map_name(row):\n",
    "    return warp_shuffle_algs_and_args[row[\"Name\"]][row[\"Args\"]]\n",
    "\n",
    "\n",
    "results[\"Speedup\"] = results.apply(speedup, axis=1)\n",
    "results[\"Implementation\"] = results.apply(map_name, axis=1)\n",
    "\n",
    "sns.set(rc={'figure.figsize': (10, 10)})\n",
    "for right_matrices in sorted(results[\"Input right matrices\"].unique()):\n",
    "    fig, ax = plt.subplots()\n",
    "    r_mat_results = results[results[\"Input right matrices\"] == right_matrices]\n",
    "    ax = sns.lineplot(data=r_mat_results, x=\"Input matrix rows\", y=\"Speedup\", hue=\"Implementation\", marker='o', ax=ax)\n",
    "    ticks = ax.get_xticks()\n",
    "    ticks = [f\"{int(num_rows)}x{int(num_rows)}\" for num_rows in ticks]\n",
    "    ax.set_xticklabels(ticks)\n",
    "    ax.set_xlabel(\"Input matrix size\")\n",
    "    ax.set_ylabel(\n",
    "        f\"Speedup compared to {warp_shuffle_algs_and_args[comparison_base_name][comparison_base_args]} implementation\")\n",
    "    ax.set_title(f\"{right_matrices} right matrices\")\n",
    "    fig.tight_layout()"
   ]
  },
  {
   "cell_type": "code",
   "execution_count": null,
   "metadata": {
    "pycharm": {
     "name": "#%%\n"
    }
   },
   "outputs": [],
   "source": []
  }
 ],
 "metadata": {
  "kernelspec": {
   "display_name": "Python 3",
   "language": "python",
   "name": "python3"
  },
  "language_info": {
   "codemirror_mode": {
    "name": "ipython",
    "version": 2
   },
   "file_extension": ".py",
   "mimetype": "text/x-python",
   "name": "python",
   "nbconvert_exporter": "python",
   "pygments_lexer": "ipython2",
   "version": "2.7.6"
  }
 },
 "nbformat": 4,
 "nbformat_minor": 0
}
