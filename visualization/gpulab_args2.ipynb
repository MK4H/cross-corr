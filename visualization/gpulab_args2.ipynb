{
 "cells": [
  {
   "cell_type": "code",
   "execution_count": null,
   "metadata": {
    "pycharm": {
     "name": "#%%\n"
    }
   },
   "outputs": [],
   "source": [
    "import re\n",
    "\n",
    "import math\n",
    "import numpy as np\n",
    "import pandas as pd\n",
    "import matplotlib.pyplot as plt\n",
    "import seaborn as sns\n",
    "from shared import Benchmark, Run, Group, InputSize\n",
    "\n",
    "from pathlib import Path\n",
    "from typing import List, Tuple, Dict\n",
    "\n",
    "benchmark = Benchmark.load(Path.cwd().parent / \"benchmarking\" / \"args_test\" / \"gpulab\" / \"args_test2\")\n"
   ]
  },
  {
   "cell_type": "markdown",
   "metadata": {
    "collapsed": false,
    "pycharm": {
     "name": "#%% md\n"
    }
   },
   "source": [
    "# ONE TO ONE"
   ]
  },
  {
   "cell_type": "code",
   "execution_count": null,
   "metadata": {
    "pycharm": {
     "name": "#%%\n"
    }
   },
   "outputs": [],
   "source": [
    "group = benchmark.groups[\"one_to_one\"]\n",
    "\n",
    "data = pd.concat([run.data for run in group.runs], axis=0, ignore_index=True)\n",
    "\n",
    "# data = data[data[\"Input matrix rows\"] >= 256]\n",
    "\n",
    "grouped = data.groupby([\"Name\", \"Args\", \"Input matrix rows\"])\n",
    "\n",
    "\n",
    "\n",
    "kernel_times = grouped[\"Kernel\"].mean() / 1e9\n",
    "kernel_times.name = \"Kernel time\"\n",
    "results = kernel_times.reset_index()\n",
    "\n",
    "min_times = results.groupby([\"Name\", \"Input matrix rows\"])[\"Kernel time\"].min().to_frame(\"Kernel time\").reset_index()\n",
    "\n",
    "\n",
    "def speedup(row):\n",
    "    min_time = min_times[(min_times[\"Name\"] == row[\"Name\"]) & (min_times[\"Input matrix rows\"] == row[\"Input matrix rows\"])][\"Kernel time\"].item()\n",
    "    return row[\"Kernel time\"] / min_time\n",
    "\n",
    "results[\"Relative speed\"] = results.apply(speedup, axis=1)\n",
    "\n",
    "\n",
    "\n",
    "sns.set(rc={'figure.figsize': (10, 80)})\n",
    "fig, axs = plt.subplots(nrows=results[\"Name\"].nunique())\n",
    "for idx, name in enumerate(sorted(results[\"Name\"].unique())):\n",
    "    filtered_result = results[results[\"Name\"] == name]\n",
    "    ax = sns.lineplot(data=filtered_result, x=\"Input matrix rows\", y=\"Relative speed\", hue=\"Args\", marker='o', ax=axs[idx])\n",
    "\n",
    "    ax.set_title(f\"{name}\")\n",
    "fig.tight_layout()\n",
    "\n",
    "best_args = results.groupby([\"Name\", \"Args\"])[\"Relative speed\"].sum().to_frame(\"Total relative time\").reset_index().sort_values(\"Total relative time\")\n",
    "print(best_args.groupby([\"Name\"]).head(3).sort_values(\"Name\", kind=\"stable\"))"
   ]
  },
  {
   "cell_type": "markdown",
   "metadata": {
    "collapsed": false,
    "pycharm": {
     "name": "#%% md\n"
    }
   },
   "source": [
    "# ONE TO MANY"
   ]
  },
  {
   "cell_type": "code",
   "execution_count": null,
   "metadata": {
    "pycharm": {
     "name": "#%%\n"
    }
   },
   "outputs": [],
   "source": [
    "group = benchmark.groups[\"one_to_many\"]\n",
    "\n",
    "data = pd.concat([run.data for run in group.runs], axis=0, ignore_index=True)\n",
    "\n",
    "grouped = data.groupby([\"Name\", \"Args\", \"Input right matrices\", \"Input matrix rows\"])\n",
    "\n",
    "\n",
    "\n",
    "kernel_times = grouped[\"Kernel\"].mean() / 1e9\n",
    "kernel_times.name = \"Kernel time\"\n",
    "results = kernel_times.reset_index().sort_values(\"Kernel time\")\n",
    "\n",
    "min_times = results.groupby([\"Name\", \"Input right matrices\", \"Input matrix rows\"])[\"Kernel time\"].min().to_frame(\"Kernel time\").reset_index()\n",
    "\n",
    "\n",
    "def speedup(row):\n",
    "    min_time = min_times[(min_times[\"Name\"] == row[\"Name\"]) & (min_times[\"Input matrix rows\"] == row[\"Input matrix rows\"]) & (min_times[\"Input right matrices\"] == row[\"Input right matrices\"])][\"Kernel time\"].item()\n",
    "    return row[\"Kernel time\"] / min_time\n",
    "\n",
    "results[\"Relative speed\"] = results.apply(speedup, axis=1)\n",
    "\n",
    "\n",
    "sns.set(rc={'figure.figsize': (10, 40)})\n",
    "\n",
    "for name in sorted(results[\"Name\"].unique()):\n",
    "\n",
    "    alg_results = results[results[\"Name\"] == name]\n",
    "    fig, axs = plt.subplots(nrows=alg_results[\"Input right matrices\"].nunique())\n",
    "\n",
    "    palette = dict(zip(alg_results[\"Args\"].unique(), sns.color_palette(n_colors=alg_results[\"Args\"].nunique())))\n",
    "\n",
    "    for idx, num_rights in enumerate(sorted(results[\"Input right matrices\"].unique())):\n",
    "        filtered_result = alg_results[alg_results[\"Input right matrices\"] == num_rights]\n",
    "        ax = sns.lineplot(data=filtered_result, x=\"Input matrix rows\", y=\"Relative speed\", hue=\"Args\", marker='o', ax=axs[idx], palette=palette)\n",
    "\n",
    "        ax.set_title(f\"{num_rights} right matrices\")\n",
    "    fig.suptitle(f\"{name}\")\n",
    "    fig.tight_layout()\n",
    "\n",
    "best_args = results.groupby([\"Name\", \"Args\"])[\"Relative speed\"].sum().to_frame(\"Total relative time\").reset_index().sort_values(\"Total relative time\")\n",
    "print(best_args.groupby([\"Name\"]).head(3).sort_values(\"Name\", kind=\"stable\"))"
   ]
  },
  {
   "cell_type": "markdown",
   "metadata": {
    "collapsed": false,
    "pycharm": {
     "name": "#%% md\n"
    }
   },
   "source": [
    "# N TO MN"
   ]
  },
  {
   "cell_type": "code",
   "execution_count": null,
   "metadata": {
    "pycharm": {
     "name": "#%%\n"
    }
   },
   "outputs": [],
   "source": [
    "group = benchmark.groups[\"n_to_mn\"]\n",
    "\n",
    "data = pd.concat([run.data for run in group.runs], axis=0, ignore_index=True)\n",
    "\n",
    "num_input_types = data[\"Input type\"].nunique()\n",
    "\n",
    "grouped = data.groupby([\"Name\", \"Args\", \"Input left matrices\", \"Input right matrices\", \"Input matrix rows\"])\n",
    "\n",
    "kernel_times = grouped[\"Kernel\"].mean() / 1e9\n",
    "kernel_times.name = \"Kernel time\"\n",
    "results = kernel_times.reset_index().sort_values(\"Kernel time\")\n",
    "\n",
    "min_times = results.groupby([\"Name\", \"Input left matrices\", \"Input right matrices\", \"Input matrix rows\"])[\"Kernel time\"].min().to_frame(\"Kernel time\").reset_index()\n",
    "\n",
    "def speedup(row):\n",
    "    min_time = min_times[(min_times[\"Name\"] == row[\"Name\"]) & (min_times[\"Input matrix rows\"] == row[\"Input matrix rows\"]) & (min_times[\"Input right matrices\"] == row[\"Input right matrices\"]) & (min_times[\"Input left matrices\"] == row[\"Input left matrices\"])][\"Kernel time\"].item()\n",
    "    return row[\"Kernel time\"] / min_time\n",
    "\n",
    "results[\"Relative speed\"] = results.apply(speedup, axis=1)\n",
    "\n",
    "\n",
    "sns.set(rc={'figure.figsize': (10, 40)})\n",
    "\n",
    "\n",
    "for name in sorted(results[\"Name\"].unique()):\n",
    "    alg_results = results[results[\"Name\"] == name]\n",
    "    fig, axs = plt.subplots(nrows=num_input_types)\n",
    "\n",
    "    palette = dict(zip(alg_results[\"Args\"].unique(), sns.color_palette(n_colors=alg_results[\"Args\"].nunique())))\n",
    "\n",
    "    input_type = 0\n",
    "    for num_lefts in sorted(alg_results[\"Input left matrices\"].unique()):\n",
    "        left_results = alg_results[alg_results[\"Input left matrices\"] == num_lefts]\n",
    "        for num_rights in sorted(left_results[\"Input right matrices\"].unique()):\n",
    "            right_results = left_results[left_results[\"Input right matrices\"] == num_rights]\n",
    "            ax = sns.lineplot(data=right_results, x=\"Input matrix rows\", y=\"Relative speed\", hue=\"Args\", marker='o',\n",
    "                              ax=axs[input_type], palette=palette)\n",
    "            input_type += 1\n",
    "\n",
    "            ax.set_title(f\"{num_lefts}x{num_rights}\")\n",
    "    fig.suptitle(f\"{name}\")\n",
    "    fig.tight_layout()\n",
    "\n",
    "best_args = results.groupby([\"Name\", \"Args\"])[\"Relative speed\"].sum().to_frame(\"Total relative time\").reset_index().sort_values(\"Total relative time\")\n",
    "print(best_args.groupby([\"Name\"]).head(3).sort_values(\"Name\", kind=\"stable\"))"
   ]
  },
  {
   "cell_type": "markdown",
   "metadata": {
    "collapsed": false,
    "pycharm": {
     "name": "#%% md\n"
    }
   },
   "source": [
    "# N TO M"
   ]
  },
  {
   "cell_type": "code",
   "execution_count": null,
   "metadata": {
    "pycharm": {
     "name": "#%%\n"
    }
   },
   "outputs": [],
   "source": [
    "group = benchmark.groups[\"n_to_m\"]\n",
    "\n",
    "data = pd.concat([run.data for run in group.runs], axis=0, ignore_index=True)\n",
    "\n",
    "num_input_types = data[\"Input type\"].nunique()\n",
    "\n",
    "grouped = data.groupby([\"Name\", \"Args\", \"Input left matrices\", \"Input right matrices\", \"Input matrix rows\"])\n",
    "\n",
    "kernel_times = grouped[\"Kernel\"].mean() / 1e9\n",
    "kernel_times.name = \"Kernel time\"\n",
    "results = kernel_times.reset_index().sort_values(\"Kernel time\")\n",
    "\n",
    "min_times = results.groupby([\"Name\", \"Input left matrices\", \"Input right matrices\", \"Input matrix rows\"])[\"Kernel time\"].min().to_frame(\"Kernel time\").reset_index()\n",
    "\n",
    "def speedup(row):\n",
    "    min_time = min_times[(min_times[\"Name\"] == row[\"Name\"]) & (min_times[\"Input matrix rows\"] == row[\"Input matrix rows\"]) & (min_times[\"Input right matrices\"] == row[\"Input right matrices\"]) & (min_times[\"Input left matrices\"] == row[\"Input left matrices\"])][\"Kernel time\"].item()\n",
    "    return row[\"Kernel time\"] / min_time\n",
    "\n",
    "results[\"Relative speed\"] = results.apply(speedup, axis=1)\n",
    "\n",
    "\n",
    "sns.set(rc={'figure.figsize': (10, 40)})\n",
    "\n",
    "\n",
    "for name in sorted(results[\"Name\"].unique()):\n",
    "    alg_results = results[results[\"Name\"] == name]\n",
    "    fig, axs = plt.subplots(nrows=num_input_types)\n",
    "\n",
    "    palette = dict(zip(alg_results[\"Args\"].unique(), sns.color_palette(n_colors=alg_results[\"Args\"].nunique())))\n",
    "\n",
    "    input_type = 0\n",
    "    for num_lefts in sorted(alg_results[\"Input left matrices\"].unique()):\n",
    "        left_results = alg_results[alg_results[\"Input left matrices\"] == num_lefts]\n",
    "        for num_rights in sorted(left_results[\"Input right matrices\"].unique()):\n",
    "            right_results = left_results[left_results[\"Input right matrices\"] == num_rights]\n",
    "            ax = sns.lineplot(data=right_results, x=\"Input matrix rows\", y=\"Relative speed\", hue=\"Args\", marker='o',\n",
    "                              ax=axs[input_type], palette=palette)\n",
    "            input_type += 1\n",
    "\n",
    "            ax.set_title(f\"{num_lefts}x{num_rights}\")\n",
    "    fig.suptitle(f\"{name}\")\n",
    "    fig.tight_layout()\n",
    "\n",
    "best_args = results.groupby([\"Name\", \"Args\"])[\"Relative speed\"].sum().to_frame(\"Total relative time\").reset_index().sort_values(\"Total relative time\")\n",
    "print(best_args.groupby([\"Name\"]).head(3).sort_values(\"Name\", kind=\"stable\"))"
   ]
  },
  {
   "cell_type": "code",
   "execution_count": null,
   "metadata": {
    "pycharm": {
     "name": "#%%\n"
    }
   },
   "outputs": [],
   "source": []
  }
 ],
 "metadata": {
  "kernelspec": {
   "display_name": "Python 3",
   "language": "python",
   "name": "python3"
  },
  "language_info": {
   "codemirror_mode": {
    "name": "ipython",
    "version": 2
   },
   "file_extension": ".py",
   "mimetype": "text/x-python",
   "name": "python",
   "nbconvert_exporter": "python",
   "pygments_lexer": "ipython2",
   "version": "2.7.6"
  }
 },
 "nbformat": 4,
 "nbformat_minor": 0
}
