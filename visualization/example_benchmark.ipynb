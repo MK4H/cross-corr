{
 "cells": [
  {
   "cell_type": "code",
   "execution_count": null,
   "metadata": {
    "pycharm": {
     "name": "#%%\n"
    }
   },
   "outputs": [],
   "source": [
    "import pandas as pd\n",
    "import matplotlib.pyplot as plt\n",
    "import seaborn as sns\n",
    "from shared import Benchmark\n",
    "\n",
    "from pathlib import Path\n",
    "\n",
    "benchmark = Benchmark.load(Path.cwd().parent / \"benchmarking\" / \"example\" / \"results\")\n",
    "\n",
    "group = benchmark.groups[\"one_to_one\"]\n",
    "\n",
    "comparison_base_name = \"basic\"\n",
    "comparison_base_args = \"\"\n",
    "warp_shuffle_algs_and_args = {\n",
    "    \"basic\": {\n",
    "        \"\": \"Basic\",\n",
    "    },\n",
    "    \"fft_orig\": {\n",
    "        \"\": \"FFT\",\n",
    "    },\n",
    "    \"nai_shuffle_multirow_both\": {\n",
    "        # \"4\": \"Multirow right with 4 overlaps\",\n",
    "        # \"8\": \"Multirow right with 8 overlaps\",\n",
    "        \"1_1\": \"Warp shuffle with multirow both (1,1)\",\n",
    "        \"2_2\": \"Warp shuffle with multirow both (2,2)\",\n",
    "    },\n",
    "    \"nai_warp_per_shift\": {\n",
    "        \"\": \"Warp per shift base\"\n",
    "    },\n",
    "}\n",
    "\n",
    "data = pd.concat([run.data for run in group.runs], axis=0, ignore_index=True)\n",
    "\n",
    "def filter_data(row) -> bool:\n",
    "    return row[\"Name\"] in warp_shuffle_algs_and_args and row[\"Args\"] in warp_shuffle_algs_and_args[row[\"Name\"]]\n",
    "\n",
    "data = data[data[[\"Name\", \"Args\"]].apply(filter_data, axis=1)]\n",
    "\n",
    "grouped = data.groupby([\"Name\", \"Args\", \"Input matrix rows\"])\n",
    "\n",
    "computation_times = grouped[\"Computation\"].mean() / 1e9\n",
    "computation_times.name = \"Computation time\"\n",
    "results = computation_times.reset_index()\n",
    "\n",
    "comparison_base_times = results[(results[\"Name\"] == comparison_base_name) & (results[\"Args\"] == comparison_base_args)]\n",
    "\n",
    "def speedup(row):\n",
    "    min_time = comparison_base_times[comparison_base_times[\"Input matrix rows\"] == row[\"Input matrix rows\"]][\"Computation time\"].item()\n",
    "    return min_time / row[\"Computation time\"]\n",
    "\n",
    "def map_name(row):\n",
    "    return warp_shuffle_algs_and_args[row[\"Name\"]][row[\"Args\"]]\n",
    "\n",
    "results[\"Speedup\"] = results.apply(speedup, axis=1)\n",
    "results[\"Implementation\"] = results.apply(map_name, axis=1)\n",
    "\n",
    "sns.set(rc={'figure.figsize': (10, 10)})\n",
    "fig, ax = plt.subplots()\n",
    "\n",
    "ax = sns.lineplot(data=results, x=\"Input matrix rows\", y=\"Speedup\", hue=\"Implementation\", marker='o', ax=ax)\n",
    "ax.set_xticks(results[\"Input matrix rows\"].unique()[::2])\n",
    "ticks = ax.get_xticks()\n",
    "ticks = [f\"{int(num_rows)}x{int(num_rows)}\" for num_rows in ticks]\n",
    "ax.set_xticklabels(ticks, rotation=90)\n",
    "ax.set_xlabel(\"Input matrix size\")\n",
    "ax.set_ylabel(f\"Speedup compared to {warp_shuffle_algs_and_args[comparison_base_name][comparison_base_args]} implementation\")\n",
    "fig.tight_layout()\n",
    "fig.savefig(\"example_benchmark_results.svg\", format=\"svg\")"
   ]
  },
  {
   "cell_type": "code",
   "execution_count": null,
   "metadata": {
    "pycharm": {
     "name": "#%%\n"
    }
   },
   "outputs": [],
   "source": []
  }
 ],
 "metadata": {
  "kernelspec": {
   "display_name": "Python 3",
   "language": "python",
   "name": "python3"
  },
  "language_info": {
   "codemirror_mode": {
    "name": "ipython",
    "version": 2
   },
   "file_extension": ".py",
   "mimetype": "text/x-python",
   "name": "python",
   "nbconvert_exporter": "python",
   "pygments_lexer": "ipython2",
   "version": "2.7.6"
  }
 },
 "nbformat": 4,
 "nbformat_minor": 0
}
