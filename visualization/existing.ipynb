{
 "cells": [
  {
   "cell_type": "markdown",
   "source": [
    "# Existing implementations\n",
    "Comparing existing implementations in matlab and scipy with our C++/CUDA implementations."
   ],
   "metadata": {
    "collapsed": false
   }
  },
  {
   "cell_type": "code",
   "execution_count": 3,
   "metadata": {
    "collapsed": true
   },
   "outputs": [],
   "source": [
    "import re\n",
    "\n",
    "import numpy as np\n",
    "import pandas as pd\n",
    "import matplotlib.pyplot as plt\n",
    "from shared import Benchmark, Run, Group\n",
    "\n",
    "from pathlib import Path\n",
    "from typing import List\n",
    "\n",
    "all_compute_stages = [\"Prepare\", \"Transfer\", \"Run\", \"Finalize\"]\n",
    "\n",
    "def sum_of_stage_means(run: Run, stages: List[str]):\n",
    "    return sum((run.data[stage].mean() for stage in stages))\n",
    "\n",
    "def sum_of_stage_medians(run: Run, stages: List[str]):\n",
    "    return sum((run.data[stage].median() for stage in stages))\n",
    "\n",
    "benchmark_path = Path.cwd().parent / \"benchmarking\" / \"test\" / \"External\"\n",
    "\n",
    "benchmark = Benchmark.load(benchmark_path)"
   ]
  },
  {
   "cell_type": "code",
   "execution_count": 9,
   "outputs": [
    {
     "data": {
      "text/plain": "<Figure size 432x288 with 1 Axes>",
      "image/png": "[encoded data removed]"
     },
     "metadata": {
      "needs_background": "light"
     },
     "output_type": "display_data"
    }
   ],
   "source": [
    "for group in benchmark.groups:\n",
    "    algorithm_names = set((run.name for run in group.runs))\n",
    "\n",
    "    fig, ax = plt.subplots()\n",
    "    fig.suptitle(f\"{group.name}\")\n",
    "    for alg_name in sorted(algorithm_names):\n",
    "        alg_runs = [run for run in group.runs if run.name == alg_name]\n",
    "        # if alg_name in [\"matlab_uncached\", \"python\", \"fft_orig__512__\"]:\n",
    "        #     continue\n",
    "        ax.plot(\n",
    "            [run.input_area() for run in alg_runs],\n",
    "            np.array([sum_of_stage_medians(run, all_compute_stages) for run in alg_runs]) / 1e9,\n",
    "            \"o-\",\n",
    "            label=f\"{alg_name}\"\n",
    "        )\n",
    "        ax.legend()"
   ],
   "metadata": {
    "collapsed": false,
    "pycharm": {
     "name": "#%%\n"
    }
   }
  },
  {
   "cell_type": "code",
   "execution_count": null,
   "outputs": [],
   "source": [],
   "metadata": {
    "collapsed": false,
    "pycharm": {
     "name": "#%%\n"
    }
   }
  }
 ],
 "metadata": {
  "kernelspec": {
   "display_name": "Python 3",
   "language": "python",
   "name": "python3"
  },
  "language_info": {
   "codemirror_mode": {
    "name": "ipython",
    "version": 2
   },
   "file_extension": ".py",
   "mimetype": "text/x-python",
   "name": "python",
   "nbconvert_exporter": "python",
   "pygments_lexer": "ipython2",
   "version": "2.7.6"
  }
 },
 "nbformat": 4,
 "nbformat_minor": 0
}