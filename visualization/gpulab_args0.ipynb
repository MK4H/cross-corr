{
 "cells": [
  {
   "cell_type": "code",
   "execution_count": null,
   "metadata": {
    "pycharm": {
     "name": "#%%\n"
    }
   },
   "outputs": [],
   "source": [
    "import re\n",
    "\n",
    "import math\n",
    "import numpy as np\n",
    "import pandas as pd\n",
    "import matplotlib.pyplot as plt\n",
    "import seaborn as sns\n",
    "from shared import Benchmark, Run, Group, InputSize\n",
    "\n",
    "from pathlib import Path\n",
    "from typing import List, Tuple, Dict\n",
    "\n",
    "benchmark = Benchmark.load(Path.cwd().parent / \"benchmarking\" / \"args_test\" / \"gpulab_args_test\")"
   ]
  },
  {
   "cell_type": "code",
   "execution_count": null,
   "metadata": {
    "pycharm": {
     "name": "#%%\n"
    }
   },
   "outputs": [],
   "source": [
    "group = benchmark.groups[\"one_to_one\"]\n",
    "\n",
    "data = pd.concat([run.data for run in group.runs], axis=0, ignore_index=True)\n",
    "\n",
    "data = data[data[\"Input matrix rows\"] < 256]\n",
    "\n",
    "grouped = data.groupby([\"Name\", \"Args\", \"Input matrix rows\"])\n",
    "\n",
    "\n",
    "\n",
    "kernel_times = grouped[\"Kernel\"].mean() / 1e9\n",
    "kernel_times.name = \"Kernel time\"\n",
    "results = kernel_times.reset_index().sort_values(\"Kernel time\")\n",
    "\n",
    "sns.set(rc={'figure.figsize': (10, 80)})\n",
    "fig, axs = plt.subplots(nrows=results[\"Name\"].nunique())\n",
    "for idx, name in enumerate(sorted(results[\"Name\"].unique())):\n",
    "    filtered_result = results[results[\"Name\"] == name]\n",
    "    ax = sns.lineplot(data=filtered_result, x=\"Input matrix rows\", y=\"Kernel time\", hue=\"Args\", marker='o', ax=axs[idx])\n",
    "\n",
    "    ax.set_title(f\"{name}\")\n",
    "fig.tight_layout()"
   ]
  },
  {
   "cell_type": "code",
   "execution_count": null,
   "metadata": {
    "pycharm": {
     "name": "#%%\n"
    }
   },
   "outputs": [],
   "source": [
    "group = benchmark.groups[\"one_to_many\"]\n",
    "\n",
    "data = pd.concat([run.data for run in group.runs], axis=0, ignore_index=True)\n",
    "\n",
    "data = data[data[\"Input matrix rows\"] < 256]\n",
    "\n",
    "grouped = data.groupby([\"Name\", \"Args\", \"Input right matrices\", \"Input matrix rows\"])\n",
    "\n",
    "\n",
    "\n",
    "kernel_times = grouped[\"Kernel\"].mean() / 1e9\n",
    "kernel_times.name = \"Kernel time\"\n",
    "results = kernel_times.reset_index().sort_values(\"Kernel time\")\n",
    "\n",
    "sns.set(rc={'figure.figsize': (10, 50)})\n",
    "\n",
    "for num_rights in sorted(results[\"Input right matrices\"].unique()):\n",
    "    right_results = results[results[\"Input right matrices\"] == num_rights]\n",
    "    fig, axs = plt.subplots(nrows=right_results[\"Name\"].nunique())\n",
    "    for idx, name in enumerate(sorted(right_results[\"Name\"].unique())):\n",
    "        filtered_result = right_results[right_results[\"Name\"] == name]\n",
    "        ax = sns.lineplot(data=filtered_result, x=\"Input matrix rows\", y=\"Kernel time\", hue=\"Args\", marker='o', ax=axs[idx])\n",
    "\n",
    "        ax.set_title(f\"{name}\")\n",
    "    fig.suptitle(f\"{num_rights} right matrices\")\n",
    "    fig.tight_layout()"
   ]
  },
  {
   "cell_type": "code",
   "execution_count": null,
   "metadata": {
    "pycharm": {
     "name": "#%%\n"
    }
   },
   "outputs": [],
   "source": [
    "group = benchmark.groups[\"n_to_mn\"]\n",
    "\n",
    "data = pd.concat([run.data for run in group.runs], axis=0, ignore_index=True)\n",
    "\n",
    "data = data[data[\"Input matrix rows\"] < 256]\n",
    "\n",
    "grouped = data.groupby([\"Name\", \"Args\", \"Input left matrices\", \"Input right matrices\", \"Input matrix rows\"])\n",
    "\n",
    "kernel_times = grouped[\"Kernel\"].mean() / 1e9\n",
    "kernel_times.name = \"Kernel time\"\n",
    "results = kernel_times.reset_index().sort_values(\"Kernel time\")\n",
    "\n",
    "sns.set(rc={'figure.figsize': (10, 50)})\n",
    "\n",
    "for num_lefts in sorted(results[\"Input left matrices\"].unique()):\n",
    "    left_results = results[results[\"Input left matrices\"] == num_lefts]\n",
    "    for num_rights in sorted(left_results[\"Input right matrices\"].unique()):\n",
    "        right_results = left_results[left_results[\"Input right matrices\"] == num_rights]\n",
    "        fig, axs = plt.subplots(nrows=right_results[\"Name\"].nunique())\n",
    "        for idx, name in enumerate(sorted(right_results[\"Name\"].unique())):\n",
    "            filtered_result = right_results[right_results[\"Name\"] == name]\n",
    "            ax = sns.lineplot(data=filtered_result, x=\"Input matrix rows\", y=\"Kernel time\", hue=\"Args\", marker='o',\n",
    "                              ax=axs[idx])\n",
    "\n",
    "            ax.set_title(f\"{name}\")\n",
    "        fig.suptitle(f\"{num_lefts}x{num_rights}\")\n",
    "        fig.tight_layout()"
   ]
  },
  {
   "cell_type": "code",
   "execution_count": null,
   "metadata": {
    "pycharm": {
     "name": "#%%\n"
    }
   },
   "outputs": [],
   "source": [
    "group = benchmark.groups[\"n_to_m\"]\n",
    "\n",
    "data = pd.concat([run.data for run in group.runs], axis=0, ignore_index=True)\n",
    "\n",
    "data = data[data[\"Input matrix rows\"] < 256]\n",
    "\n",
    "grouped = data.groupby([\"Name\", \"Args\", \"Input left matrices\", \"Input right matrices\", \"Input matrix rows\"])\n",
    "\n",
    "kernel_times = grouped[\"Kernel\"].mean() / 1e9\n",
    "kernel_times.name = \"Kernel time\"\n",
    "results = kernel_times.reset_index().sort_values(\"Kernel time\")\n",
    "\n",
    "sns.set(rc={'figure.figsize': (10, 50)})\n",
    "\n",
    "for num_lefts in sorted(results[\"Input left matrices\"].unique()):\n",
    "    left_results = results[results[\"Input left matrices\"] == num_lefts]\n",
    "    for num_rights in sorted(left_results[\"Input right matrices\"].unique()):\n",
    "        right_results = left_results[left_results[\"Input right matrices\"] == num_rights]\n",
    "        fig, axs = plt.subplots(nrows=right_results[\"Name\"].nunique())\n",
    "        for idx, name in enumerate(sorted(right_results[\"Name\"].unique())):\n",
    "            filtered_result = right_results[right_results[\"Name\"] == name]\n",
    "            ax = sns.lineplot(data=filtered_result, x=\"Input matrix rows\", y=\"Kernel time\", hue=\"Args\", marker='o',\n",
    "                              ax=axs[idx])\n",
    "\n",
    "            ax.set_title(f\"{name}\")\n",
    "        fig.suptitle(f\"{num_lefts}x{num_rights}\")\n",
    "        fig.tight_layout()"
   ]
  },
  {
   "cell_type": "code",
   "execution_count": null,
   "metadata": {
    "pycharm": {
     "name": "#%%\n"
    }
   },
   "outputs": [],
   "source": []
  }
 ],
 "metadata": {
  "kernelspec": {
   "display_name": "Python 3",
   "language": "python",
   "name": "python3"
  },
  "language_info": {
   "codemirror_mode": {
    "name": "ipython",
    "version": 2
   },
   "file_extension": ".py",
   "mimetype": "text/x-python",
   "name": "python",
   "nbconvert_exporter": "python",
   "pygments_lexer": "ipython2",
   "version": "2.7.6"
  }
 },
 "nbformat": 4,
 "nbformat_minor": 0
}
