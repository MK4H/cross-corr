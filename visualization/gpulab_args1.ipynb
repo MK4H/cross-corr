{
 "cells": [
  {
   "cell_type": "code",
   "execution_count": null,
   "metadata": {
    "pycharm": {
     "name": "#%%\n"
    }
   },
   "outputs": [],
   "source": [
    "import re\n",
    "\n",
    "import math\n",
    "import numpy as np\n",
    "import pandas as pd\n",
    "import matplotlib.pyplot as plt\n",
    "import seaborn as sns\n",
    "from shared import Benchmark, Run, Group, InputSize\n",
    "\n",
    "from pathlib import Path\n",
    "from typing import List, Tuple, Dict\n",
    "\n",
    "benchmark = Benchmark.load(Path.cwd().parent / \"benchmarking\" / \"args_test\" / \"gpulab_args_test2\")"
   ]
  },
  {
   "cell_type": "code",
   "execution_count": null,
   "metadata": {
    "pycharm": {
     "name": "#%%\n"
    }
   },
   "outputs": [],
   "source": [
    "group = benchmark.groups[\"one_to_one\"]\n",
    "\n",
    "data = pd.concat([run.data for run in group.runs], axis=0, ignore_index=True)\n",
    "\n",
    "data = data[data[\"Input matrix rows\"] >= 256]\n",
    "\n",
    "grouped = data.groupby([\"Name\", \"Args\", \"Input matrix rows\"])\n",
    "\n",
    "\n",
    "\n",
    "kernel_times = grouped[\"Kernel\"].mean() / 1e9\n",
    "kernel_times.name = \"Kernel time\"\n",
    "results = kernel_times.reset_index().sort_values(\"Kernel time\")\n",
    "\n",
    "sns.set(rc={'figure.figsize': (10, 80)})\n",
    "fig, axs = plt.subplots(nrows=results[\"Name\"].nunique())\n",
    "for idx, name in enumerate(sorted(results[\"Name\"].unique())):\n",
    "    filtered_result = results[results[\"Name\"] == name]\n",
    "    ax = sns.lineplot(data=filtered_result, x=\"Input matrix rows\", y=\"Kernel time\", hue=\"Args\", marker='o', ax=axs[idx])\n",
    "\n",
    "    ax.set_title(f\"{name}\")\n",
    "fig.tight_layout()"
   ]
  },
  {
   "cell_type": "code",
   "execution_count": null,
   "metadata": {
    "pycharm": {
     "name": "#%%\n"
    }
   },
   "outputs": [],
   "source": [
    "group = benchmark.groups[\"one_to_many\"]\n",
    "\n",
    "data = pd.concat([run.data for run in group.runs], axis=0, ignore_index=True)\n",
    "\n",
    "data = data[data[\"Input matrix rows\"] < 256]\n",
    "\n",
    "grouped = data.groupby([\"Name\", \"Args\", \"Input right matrices\", \"Input matrix rows\"])\n",
    "\n",
    "\n",
    "\n",
    "kernel_times = grouped[\"Kernel\"].mean() / 1e9\n",
    "kernel_times.name = \"Kernel time\"\n",
    "results = kernel_times.reset_index().sort_values(\"Kernel time\")\n",
    "\n",
    "sns.set(rc={'figure.figsize': (10, 50)})\n",
    "\n",
    "for num_rights in sorted(results[\"Input right matrices\"].unique()):\n",
    "    right_results = results[results[\"Input right matrices\"] == num_rights]\n",
    "    fig, axs = plt.subplots(nrows=right_results[\"Name\"].nunique())\n",
    "    for idx, name in enumerate(sorted(right_results[\"Name\"].unique())):\n",
    "        filtered_result = right_results[right_results[\"Name\"] == name]\n",
    "        ax = sns.lineplot(data=filtered_result, x=\"Input matrix rows\", y=\"Kernel time\", hue=\"Args\", marker='o', ax=axs[idx])\n",
    "\n",
    "        ax.set_title(f\"{name}\")\n",
    "    fig.suptitle(f\"{num_rights} right matrices\")\n",
    "    fig.tight_layout()"
   ]
  },
  {
   "cell_type": "code",
   "execution_count": null,
   "metadata": {
    "pycharm": {
     "name": "#%%\n"
    }
   },
   "outputs": [],
   "source": [
    "group = benchmark.groups[\"n_to_mn\"]\n",
    "\n",
    "data = pd.concat([run.data for run in group.runs], axis=0, ignore_index=True)\n",
    "\n",
    "data = data[data[\"Input matrix rows\"] < 256]\n",
    "\n",
    "grouped = data.groupby([\"Name\", \"Args\", \"Input left matrices\", \"Input right matrices\", \"Input matrix rows\"])\n",
    "\n",
    "kernel_times = grouped[\"Kernel\"].mean() / 1e9\n",
    "kernel_times.name = \"Kernel time\"\n",
    "results = kernel_times.reset_index().sort_values(\"Kernel time\")\n",
    "\n",
    "sns.set(rc={'figure.figsize': (10, 50)})\n",
    "\n",
    "for num_lefts in sorted(results[\"Input left matrices\"].unique()):\n",
    "    left_results = results[results[\"Input left matrices\"] == num_lefts]\n",
    "    for num_rights in sorted(left_results[\"Input right matrices\"].unique()):\n",
    "        right_results = left_results[left_results[\"Input right matrices\"] == num_rights]\n",
    "        fig, axs = plt.subplots(nrows=right_results[\"Name\"].nunique())\n",
    "        for idx, name in enumerate(sorted(right_results[\"Name\"].unique())):\n",
    "            filtered_result = right_results[right_results[\"Name\"] == name]\n",
    "            ax = sns.lineplot(data=filtered_result, x=\"Input matrix rows\", y=\"Kernel time\", hue=\"Args\", marker='o',\n",
    "                              ax=axs[idx])\n",
    "\n",
    "            ax.set_title(f\"{name}\")\n",
    "        fig.suptitle(f\"{num_lefts}x{num_rights}\")\n",
    "        fig.tight_layout()"
   ]
  },
  {
   "cell_type": "code",
   "execution_count": null,
   "metadata": {
    "pycharm": {
     "name": "#%%\n"
    }
   },
   "outputs": [],
   "source": [
    "group = benchmark.groups[\"n_to_m\"]\n",
    "\n",
    "data = pd.concat([run.data for run in group.runs], axis=0, ignore_index=True)\n",
    "\n",
    "data = data[data[\"Input matrix rows\"] < 256]\n",
    "\n",
    "grouped = data.groupby([\"Name\", \"Args\", \"Input left matrices\", \"Input right matrices\", \"Input matrix rows\"])\n",
    "\n",
    "kernel_times = grouped[\"Kernel\"].mean() / 1e9\n",
    "kernel_times.name = \"Kernel time\"\n",
    "results = kernel_times.reset_index().sort_values(\"Kernel time\")\n",
    "\n",
    "sns.set(rc={'figure.figsize': (10, 50)})\n",
    "\n",
    "for num_lefts in sorted(results[\"Input left matrices\"].unique()):\n",
    "    left_results = results[results[\"Input left matrices\"] == num_lefts]\n",
    "    for num_rights in sorted(left_results[\"Input right matrices\"].unique()):\n",
    "        right_results = left_results[left_results[\"Input right matrices\"] == num_rights]\n",
    "        fig, axs = plt.subplots(nrows=right_results[\"Name\"].nunique())\n",
    "        for idx, name in enumerate(sorted(right_results[\"Name\"].unique())):\n",
    "            filtered_result = right_results[right_results[\"Name\"] == name]\n",
    "            ax = sns.lineplot(data=filtered_result, x=\"Input matrix rows\", y=\"Kernel time\", hue=\"Args\", marker='o',\n",
    "                              ax=axs[idx])\n",
    "\n",
    "            ax.set_title(f\"{name}\")\n",
    "        fig.suptitle(f\"{num_lefts}x{num_rights}\")\n",
    "        fig.tight_layout()"
   ]
  },
  {
   "cell_type": "code",
   "execution_count": null,
   "metadata": {
    "pycharm": {
     "name": "#%%\n"
    }
   },
   "outputs": [],
   "source": [
    "group = benchmark.groups[\"one_to_one\"]\n",
    "\n",
    "data = pd.concat([run.data for run in group.runs], axis=0, ignore_index=True)\n",
    "\n",
    "#data = data[data[\"Input matrix rows\"] < 256]\n",
    "\n",
    "grouped = data.groupby([\"Name\", \"Args\", \"Input matrix area\"])\n",
    "\n",
    "\n",
    "kernel_times = (grouped[\"Kernel\"].mean() / 1e9)\n",
    "kernel_times.name = \"Kernel time\"\n",
    "results = kernel_times.reset_index()\n",
    "\n",
    "results[\"Kernel time per input element\"] = results[\"Kernel time\"] / (2 * results[\"Input matrix area\"])\n",
    "results.sort_values(\"Kernel time per input element\")\n",
    "\n",
    "\n",
    "sns.set(rc={'figure.figsize': (10, 80)})\n",
    "fig, axs = plt.subplots(nrows=results[\"Name\"].nunique())\n",
    "for idx, name in enumerate(sorted(results[\"Name\"].unique())):\n",
    "    filtered_result = results[results[\"Name\"] == name]\n",
    "    ax = sns.lineplot(data=filtered_result, x=\"Input matrix area\", y=\"Kernel time per input element\", hue=\"Args\", marker='o', ax=axs[idx])\n",
    "\n",
    "    ax.set_title(f\"{name}\")\n",
    "fig.tight_layout()"
   ]
  },
  {
   "cell_type": "code",
   "execution_count": null,
   "metadata": {
    "pycharm": {
     "name": "#%%\n"
    }
   },
   "outputs": [],
   "source": [
    "group = benchmark.groups[\"one_to_one\"]\n",
    "\n",
    "data = pd.concat([run.data for run in group.runs], axis=0, ignore_index=True)\n",
    "\n",
    "# data = data[data[\"Input matrix rows\"] >= 256]\n",
    "\n",
    "grouped = data.groupby([\"Name\", \"Args\", \"Input matrix rows\"])\n",
    "\n",
    "\n",
    "\n",
    "kernel_times = grouped[\"Kernel\"].mean() / 1e9\n",
    "kernel_times.name = \"Kernel time\"\n",
    "results = kernel_times.reset_index()\n",
    "\n",
    "min_times = results.groupby([\"Name\", \"Input matrix rows\"])[\"Kernel time\"].min().to_frame(\"Kernel time\").reset_index()\n",
    "\n",
    "\n",
    "def speedup(row):\n",
    "    min_time = min_times[(min_times[\"Name\"] == row[\"Name\"]) & (min_times[\"Input matrix rows\"] == row[\"Input matrix rows\"])][\"Kernel time\"].item()\n",
    "    return row[\"Kernel time\"] / min_time\n",
    "\n",
    "results[\"Relative speed\"] = results.apply(speedup, axis=1)\n",
    "\n",
    "\n",
    "\n",
    "sns.set(rc={'figure.figsize': (10, 80)})\n",
    "fig, axs = plt.subplots(nrows=results[\"Name\"].nunique())\n",
    "for idx, name in enumerate(sorted(results[\"Name\"].unique())):\n",
    "    filtered_result = results[results[\"Name\"] == name]\n",
    "    ax = sns.lineplot(data=filtered_result, x=\"Input matrix rows\", y=\"Relative speed\", hue=\"Args\", marker='o', ax=axs[idx])\n",
    "\n",
    "    ax.set_title(f\"{name}\")\n",
    "fig.tight_layout()\n",
    "\n",
    "best_args = results.groupby([\"Name\", \"Args\"])[\"Relative speed\"].sum().to_frame(\"Total relative time\").reset_index().sort_values(\"Total relative time\")\n",
    "print(best_args.groupby([\"Name\"]).head(3).sort_values(\"Name\", kind=\"stable\"))"
   ]
  },
  {
   "cell_type": "code",
   "execution_count": null,
   "metadata": {
    "pycharm": {
     "name": "#%%\n"
    }
   },
   "outputs": [],
   "source": [
    "group = benchmark.groups[\"one_to_many\"]\n",
    "\n",
    "data = pd.concat([run.data for run in group.runs], axis=0, ignore_index=True)\n",
    "\n",
    "grouped = data.groupby([\"Name\", \"Args\", \"Input right matrices\", \"Input matrix rows\"])\n",
    "\n",
    "\n",
    "\n",
    "kernel_times = grouped[\"Kernel\"].mean() / 1e9\n",
    "kernel_times.name = \"Kernel time\"\n",
    "results = kernel_times.reset_index().sort_values(\"Kernel time\")\n",
    "\n",
    "min_times = results.groupby([\"Name\", \"Input right matrices\", \"Input matrix rows\"])[\"Kernel time\"].min().to_frame(\"Kernel time\").reset_index()\n",
    "\n",
    "\n",
    "def speedup(row):\n",
    "    min_time = min_times[(min_times[\"Name\"] == row[\"Name\"]) & (min_times[\"Input matrix rows\"] == row[\"Input matrix rows\"]) & (min_times[\"Input right matrices\"] == row[\"Input right matrices\"])][\"Kernel time\"].item()\n",
    "    return row[\"Kernel time\"] / min_time\n",
    "\n",
    "results[\"Relative speed\"] = results.apply(speedup, axis=1)\n",
    "\n",
    "\n",
    "sns.set(rc={'figure.figsize': (10, 40)})\n",
    "\n",
    "for name in sorted(results[\"Name\"].unique()):\n",
    "\n",
    "    alg_results = results[results[\"Name\"] == name]\n",
    "    fig, axs = plt.subplots(nrows=alg_results[\"Input right matrices\"].nunique())\n",
    "\n",
    "    palette = dict(zip(alg_results[\"Args\"].unique(), sns.color_palette(n_colors=alg_results[\"Args\"].nunique())))\n",
    "\n",
    "    for idx, num_rights in enumerate(sorted(results[\"Input right matrices\"].unique())):\n",
    "        filtered_result = alg_results[alg_results[\"Input right matrices\"] == num_rights]\n",
    "        ax = sns.lineplot(data=filtered_result, x=\"Input matrix rows\", y=\"Relative speed\", hue=\"Args\", marker='o', ax=axs[idx], palette=palette)\n",
    "\n",
    "        ax.set_title(f\"{num_rights} right matrices\")\n",
    "    fig.suptitle(f\"{name}\")\n",
    "    fig.tight_layout()\n",
    "\n",
    "best_args = results.groupby([\"Name\", \"Args\"])[\"Relative speed\"].sum().to_frame(\"Total relative time\").reset_index().sort_values(\"Total relative time\")\n",
    "print(best_args.groupby([\"Name\"]).head(3).sort_values(\"Name\", kind=\"stable\"))"
   ]
  },
  {
   "cell_type": "markdown",
   "metadata": {
    "collapsed": false,
    "pycharm": {
     "name": "#%% md\n"
    }
   },
   "source": [
    "# Warp shuffle optimizations diagram for one to one type used in text"
   ]
  },
  {
   "cell_type": "code",
   "execution_count": null,
   "metadata": {
    "pycharm": {
     "name": "#%%\n"
    }
   },
   "outputs": [],
   "source": [
    "group = benchmark.groups[\"one_to_one\"]\n",
    "\n",
    "warp_shuffle_algs_and_args = {\n",
    "    \"nai_shuffle_multimat_right\": {\n",
    "        \"name\": \"Simple\",\n",
    "        \"args\": \"8\",\n",
    "    },\n",
    "    \"nai_shuffle_multimat_right_work_distribution\": {\n",
    "        \"name\": \"Simple with work distribution\",\n",
    "        \"args\": \"8_1_triangle\",\n",
    "    },\n",
    "    \"nai_shuffle_multirow_right\": {\n",
    "        \"name\": \"Multirow right\",\n",
    "        \"args\": \"8_4\",\n",
    "    },\n",
    "    \"nai_shuffle_multirow_both\": {\n",
    "        \"name\": \"Multirow both\",\n",
    "        \"args\": \"8_4_4\",\n",
    "    },\n",
    "}\n",
    "\n",
    "data = pd.concat([run.data for run in group.runs], axis=0, ignore_index=True)\n",
    "\n",
    "def filter_data(row) -> bool:\n",
    "    return row[\"Name\"] in warp_shuffle_algs_and_args and warp_shuffle_algs_and_args[row[\"Name\"]][\"args\"] == row[\"Args\"]\n",
    "\n",
    "data = data[data[[\"Name\", \"Args\"]].apply(filter_data, axis=1)]\n",
    "\n",
    "grouped = data.groupby([\"Name\", \"Args\", \"Input matrix rows\"])\n",
    "\n",
    "\n",
    "\n",
    "kernel_times = grouped[\"Kernel\"].mean() / 1e9\n",
    "kernel_times.name = \"Kernel time\"\n",
    "results = kernel_times.reset_index()\n",
    "\n",
    "simple_impl_times = results[results[\"Name\"] == \"nai_shuffle_multimat_right\"]\n",
    "\n",
    "def speedup(row):\n",
    "    min_time = simple_impl_times[simple_impl_times[\"Input matrix rows\"] == row[\"Input matrix rows\"]][\"Kernel time\"].item()\n",
    "    return row[\"Kernel time\"] / min_time\n",
    "\n",
    "def map_name(row):\n",
    "    return warp_shuffle_algs_and_args[row[\"Name\"]][\"name\"]\n",
    "\n",
    "results[\"Relative speed\"] = results.apply(speedup, axis=1)\n",
    "results[\"Implementation\"] = results.apply(map_name, axis=1)\n",
    "\n",
    "\n",
    "sns.set(rc={'figure.figsize': (5, 5)})\n",
    "fig, ax = plt.subplots()\n",
    "\n",
    "ax = sns.lineplot(data=results, x=\"Input matrix rows\", y=\"Relative speed\", hue=\"Implementation\", marker='o', ax=ax)\n",
    "ticks = ax.get_xticks()\n",
    "ticks = [f\"{int(num_rows)}x{int(num_rows)}\" for num_rows in ticks]\n",
    "ax.set_xticklabels(ticks)\n",
    "ax.set_xlabel(\"Input matrix size\")\n",
    "ax.set_ylabel(\"Speedup\")\n",
    "fig.tight_layout()\n",
    "fig.savefig(\"warp_shuffle_one_to_one_results.svg\", format=\"svg\")"
   ]
  },
  {
   "cell_type": "markdown",
   "metadata": {
    "collapsed": false,
    "pycharm": {
     "name": "#%% md\n"
    }
   },
   "source": [
    "# Warp per shift diagram used in text"
   ]
  },
  {
   "cell_type": "code",
   "execution_count": null,
   "metadata": {
    "pycharm": {
     "name": "#%%\n"
    }
   },
   "outputs": [],
   "source": [
    "group = benchmark.groups[\"one_to_one\"]\n",
    "\n",
    "warp_per_shift_algs_and_args = {\n",
    "    \"nai_warp_per_shift\": {\n",
    "        \"name\": \"Warp per shift\",\n",
    "        \"args\": \"16\",\n",
    "    },\n",
    "    \"nai_warp_per_shift_work_distribution\": {\n",
    "        \"name\": \"Warp per shift with work distribution\",\n",
    "        \"args\": \"8_10_triangle\",\n",
    "    },\n",
    "    \"nai_warp_per_shift_shared_mem\": {\n",
    "        \"name\": \"Warp per shift with shared memory\",\n",
    "        \"args\": \"16_128_True_True\",\n",
    "    },\n",
    "    \"nai_block_per_shift\": {\n",
    "        \"name\": \"Block per shift\",\n",
    "        \"args\": \"256\",\n",
    "    },\n",
    "}\n",
    "\n",
    "data = pd.concat([run.data for run in group.runs], axis=0, ignore_index=True)\n",
    "\n",
    "def filter_data(row) -> bool:\n",
    "    return row[\"Name\"] in warp_per_shift_algs_and_args and warp_per_shift_algs_and_args[row[\"Name\"]][\"args\"] == row[\"Args\"]\n",
    "\n",
    "data = data[data[[\"Name\", \"Args\"]].apply(filter_data, axis=1)]\n",
    "\n",
    "grouped = data.groupby([\"Name\", \"Args\", \"Input matrix rows\"])\n",
    "\n",
    "\n",
    "\n",
    "kernel_times = grouped[\"Kernel\"].mean() / 1e9\n",
    "kernel_times.name = \"Kernel time\"\n",
    "results = kernel_times.reset_index()\n",
    "\n",
    "warp_per_shift_impl_times = results[results[\"Name\"] == \"nai_warp_per_shift\"]\n",
    "\n",
    "def speedup(row):\n",
    "    min_time = warp_per_shift_impl_times[warp_per_shift_impl_times[\"Input matrix rows\"] == row[\"Input matrix rows\"]][\"Kernel time\"].item()\n",
    "    return row[\"Kernel time\"] / min_time\n",
    "\n",
    "def map_name(row):\n",
    "    return warp_per_shift_algs_and_args[row[\"Name\"]][\"name\"]\n",
    "\n",
    "results[\"Relative speed\"] = results.apply(speedup, axis=1)\n",
    "results[\"Implementation\"] = results.apply(map_name, axis=1)\n",
    "\n",
    "\n",
    "sns.set(rc={'figure.figsize': (5, 5)})\n",
    "fig, ax = plt.subplots()\n",
    "\n",
    "ax = sns.lineplot(data=results, x=\"Input matrix rows\", y=\"Relative speed\", hue=\"Implementation\", marker='o', ax=ax)\n",
    "ticks = ax.get_xticks()\n",
    "ticks = [f\"{int(num_rows)}x{int(num_rows)}\" for num_rows in ticks]\n",
    "ax.set_xticklabels(ticks)\n",
    "ax.set_xlabel(\"Input matrix size\")\n",
    "ax.set_ylabel(\"Speedup\")\n",
    "fig.tight_layout()\n",
    "fig.savefig(\"warp_per_shift_one_to_one_results.svg\", format=\"svg\")"
   ]
  },
  {
   "cell_type": "markdown",
   "metadata": {
    "collapsed": false,
    "pycharm": {
     "name": "#%% md\n"
    }
   },
   "source": [
    "# N TO MN"
   ]
  },
  {
   "cell_type": "code",
   "execution_count": null,
   "metadata": {
    "pycharm": {
     "name": "#%%\n"
    }
   },
   "outputs": [],
   "source": [
    "group = benchmark.groups[\"n_to_mn\"]\n",
    "\n",
    "data = pd.concat([run.data for run in group.runs], axis=0, ignore_index=True)\n",
    "\n",
    "num_input_types = data[\"Input type\"].nunique()\n",
    "\n",
    "grouped = data.groupby([\"Name\", \"Args\", \"Input left matrices\", \"Input right matrices\", \"Input matrix rows\"])\n",
    "\n",
    "kernel_times = grouped[\"Kernel\"].mean() / 1e9\n",
    "kernel_times.name = \"Kernel time\"\n",
    "results = kernel_times.reset_index().sort_values(\"Kernel time\")\n",
    "\n",
    "min_times = results.groupby([\"Name\", \"Input left matrices\", \"Input right matrices\", \"Input matrix rows\"])[\"Kernel time\"].min().to_frame(\"Kernel time\").reset_index()\n",
    "\n",
    "def speedup(row):\n",
    "    min_time = min_times[(min_times[\"Name\"] == row[\"Name\"]) & (min_times[\"Input matrix rows\"] == row[\"Input matrix rows\"]) & (min_times[\"Input right matrices\"] == row[\"Input right matrices\"]) & (min_times[\"Input left matrices\"] == row[\"Input left matrices\"])][\"Kernel time\"].item()\n",
    "    return row[\"Kernel time\"] / min_time\n",
    "\n",
    "results[\"Relative speed\"] = results.apply(speedup, axis=1)\n",
    "\n",
    "\n",
    "sns.set(rc={'figure.figsize': (10, 40)})\n",
    "\n",
    "\n",
    "for name in sorted(results[\"Name\"].unique()):\n",
    "    alg_results = results[results[\"Name\"] == name]\n",
    "    fig, axs = plt.subplots(nrows=num_input_types)\n",
    "\n",
    "    palette = dict(zip(alg_results[\"Args\"].unique(), sns.color_palette(n_colors=alg_results[\"Args\"].nunique())))\n",
    "\n",
    "    input_type = 0\n",
    "    for num_lefts in sorted(alg_results[\"Input left matrices\"].unique()):\n",
    "        left_results = alg_results[alg_results[\"Input left matrices\"] == num_lefts]\n",
    "        for num_rights in sorted(left_results[\"Input right matrices\"].unique()):\n",
    "            right_results = left_results[left_results[\"Input right matrices\"] == num_rights]\n",
    "            ax = sns.lineplot(data=right_results, x=\"Input matrix rows\", y=\"Relative speed\", hue=\"Args\", marker='o',\n",
    "                              ax=axs[input_type], palette=palette)\n",
    "            input_type += 1\n",
    "\n",
    "            ax.set_title(f\"{num_lefts}x{num_rights}\")\n",
    "    fig.suptitle(f\"{name}\")\n",
    "    fig.tight_layout()\n",
    "\n",
    "best_args = results.groupby([\"Name\", \"Args\"])[\"Relative speed\"].sum().to_frame(\"Total relative time\").reset_index().sort_values(\"Total relative time\")\n",
    "print(best_args.groupby([\"Name\"]).head(3).sort_values(\"Name\", kind=\"stable\"))"
   ]
  },
  {
   "cell_type": "code",
   "execution_count": null,
   "metadata": {
    "pycharm": {
     "name": "#%%\n"
    }
   },
   "outputs": [],
   "source": [
    "group = benchmark.groups[\"n_to_m\"]\n",
    "\n",
    "data = pd.concat([run.data for run in group.runs], axis=0, ignore_index=True)\n",
    "\n",
    "num_input_types = data[\"Input type\"].nunique()\n",
    "\n",
    "grouped = data.groupby([\"Name\", \"Args\", \"Input left matrices\", \"Input right matrices\", \"Input matrix rows\"])\n",
    "\n",
    "kernel_times = grouped[\"Kernel\"].mean() / 1e9\n",
    "kernel_times.name = \"Kernel time\"\n",
    "results = kernel_times.reset_index().sort_values(\"Kernel time\")\n",
    "\n",
    "min_times = results.groupby([\"Name\", \"Input left matrices\", \"Input right matrices\", \"Input matrix rows\"])[\"Kernel time\"].min().to_frame(\"Kernel time\").reset_index()\n",
    "\n",
    "def speedup(row):\n",
    "    min_time = min_times[(min_times[\"Name\"] == row[\"Name\"]) & (min_times[\"Input matrix rows\"] == row[\"Input matrix rows\"]) & (min_times[\"Input right matrices\"] == row[\"Input right matrices\"]) & (min_times[\"Input left matrices\"] == row[\"Input left matrices\"])][\"Kernel time\"].item()\n",
    "    return row[\"Kernel time\"] / min_time\n",
    "\n",
    "results[\"Relative speed\"] = results.apply(speedup, axis=1)\n",
    "\n",
    "\n",
    "sns.set(rc={'figure.figsize': (10, 40)})\n",
    "\n",
    "\n",
    "for name in sorted(results[\"Name\"].unique()):\n",
    "    alg_results = results[results[\"Name\"] == name]\n",
    "    fig, axs = plt.subplots(nrows=num_input_types)\n",
    "\n",
    "    palette = dict(zip(alg_results[\"Args\"].unique(), sns.color_palette(n_colors=alg_results[\"Args\"].nunique())))\n",
    "\n",
    "    input_type = 0\n",
    "    for num_lefts in sorted(alg_results[\"Input left matrices\"].unique()):\n",
    "        left_results = alg_results[alg_results[\"Input left matrices\"] == num_lefts]\n",
    "        for num_rights in sorted(left_results[\"Input right matrices\"].unique()):\n",
    "            right_results = left_results[left_results[\"Input right matrices\"] == num_rights]\n",
    "            ax = sns.lineplot(data=right_results, x=\"Input matrix rows\", y=\"Relative speed\", hue=\"Args\", marker='o',\n",
    "                              ax=axs[input_type], palette=palette)\n",
    "            input_type += 1\n",
    "\n",
    "            ax.set_title(f\"{num_lefts}x{num_rights}\")\n",
    "    fig.suptitle(f\"{name}\")\n",
    "    fig.tight_layout()\n",
    "\n",
    "best_args = results.groupby([\"Name\", \"Args\"])[\"Relative speed\"].sum().to_frame(\"Total relative time\").reset_index().sort_values(\"Total relative time\")\n",
    "print(best_args.groupby([\"Name\"]).head(3).sort_values(\"Name\", kind=\"stable\"))"
   ]
  },
  {
   "cell_type": "code",
   "execution_count": null,
   "metadata": {
    "pycharm": {
     "name": "#%%\n"
    }
   },
   "outputs": [],
   "source": []
  }
 ],
 "metadata": {
  "kernelspec": {
   "display_name": "Python 3",
   "language": "python",
   "name": "python3"
  },
  "language_info": {
   "codemirror_mode": {
    "name": "ipython",
    "version": 2
   },
   "file_extension": ".py",
   "mimetype": "text/x-python",
   "name": "python",
   "nbconvert_exporter": "python",
   "pygments_lexer": "ipython2",
   "version": "2.7.6"
  }
 },
 "nbformat": 4,
 "nbformat_minor": 0
}
